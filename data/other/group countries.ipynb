{
 "cells": [
  {
   "cell_type": "code",
   "execution_count": 1,
   "id": "795a40c1",
   "metadata": {},
   "outputs": [],
   "source": [
    "import pandas as pd"
   ]
  },
  {
   "cell_type": "code",
   "execution_count": 2,
   "id": "ae4d9831",
   "metadata": {},
   "outputs": [],
   "source": [
    "df = pd.read_excel('Language List by Country and Place.xlsx')"
   ]
  },
  {
   "cell_type": "code",
   "execution_count": 3,
   "id": "389c6ff1",
   "metadata": {},
   "outputs": [
    {
     "name": "stdout",
     "output_type": "stream",
     "text": [
      "                   Country                                           Language \n",
      "0              Afghanistan   Pashtu, Farsi, Dari, Hazaragi, other Turkic an...\n",
      "1                  Albania                                     Albanian, Greek\n",
      "2                 Algeria                     Arabic, French, Berber dialects \n",
      "3                  Andorra             Catalán, French, Castilian, Portuguese \n",
      "4                   Angola      Portuguese, Bantu and other African languages \n",
      "..                      ...                                                ...\n",
      "203              Venezuela   Spanish, various Indigenous languages in the r...\n",
      "204                Vietnam        Vietnamese, French, English, Khmer, Chinese \n",
      "205  Western Sahara region                  Hassaniya Arabic, Moroccan Arabic \n",
      "206                  Yemen                                             Arabic \n",
      "207                 Zambia                            English, local dialects \n",
      "\n",
      "[208 rows x 2 columns]\n"
     ]
    }
   ],
   "source": [
    "print(df)"
   ]
  },
  {
   "cell_type": "code",
   "execution_count": 4,
   "id": "64a595f5",
   "metadata": {},
   "outputs": [
    {
     "name": "stdout",
     "output_type": "stream",
     "text": [
      "['Country ' 'Language ']\n"
     ]
    },
    {
     "name": "stderr",
     "output_type": "stream",
     "text": [
      "/var/folders/y2/hpwzvfz12_d_prxsk4hmxbcw0000gn/T/ipykernel_15864/490060476.py:1: FutureWarning: Index.ravel returning ndarray is deprecated; in a future version this will return a view on self.\n",
      "  print(df.columns.ravel())\n"
     ]
    }
   ],
   "source": [
    "print(df.columns.ravel())"
   ]
  },
  {
   "cell_type": "code",
   "execution_count": 5,
   "id": "f9bec750",
   "metadata": {},
   "outputs": [
    {
     "name": "stdout",
     "output_type": "stream",
     "text": [
      "['Afghanistan ', 'Albania ', 'Algeria  ', 'Andorra ', 'Angola ', 'Antigua and Barbuda ', 'Argentina ', 'Armenia ', 'Australia ', 'Austria ', 'Azerbaijan ', 'Bahamas ', 'Bahrain ', 'Bangladesh ', 'Barbados ', 'Belarus ', 'Belize ', 'Benin ', 'Bhutan ', 'Bolivia ', 'Bosnia and Herzegovina ', 'Botswana ', 'Brazil ', 'Brunei Darussalam ', 'Bulgaria ', 'Burkina Faso ', 'Burundi ', 'Cambodia ', 'Cameroon ', 'Canada ', 'Cape Verde ', 'Central African Republic ', 'Chad ', 'Chile ', 'China (PRC) ', 'Colombia ', 'Comoros ', 'Congo, Republic of ', 'Congo (DRC) ', 'Costa Rica ', 'Côte d’Ivoire ', 'Croatia ', 'Cuba ', 'Cyprus ', 'Czech Republic ', 'Denmark  ', 'Djibouti ', 'Dominican Republic ', 'East Timor ', 'Ecuador ', 'Egypt ', 'El Salvador ', 'Equatorial Guinea ', 'Eritrea ', 'Estonia ', 'Ethiopia ', 'Fiji ', 'Finland ', 'France ', 'Gabon ', 'Georgia ', 'Germany ', 'Ghana ', 'Greece ', 'Grenada ', 'Guatemala ', 'Guinea ', 'Guinea-Bissau ', 'Guyana ', 'Haiti ', 'Honduras ', 'Hong Kong Special Administration Region (SAR) ', 'Hungary ', 'Iceland ', 'India ', 'Indonesia ', 'Iran ', 'Iraq ', 'Ireland ', 'Israel ', 'Italy ', 'Iran ', 'Iraq  ', 'Ireland ', 'Israel ', 'Italy ', 'Iran  ', 'Jamaica ', 'Japan ', 'Jordan ', 'Kazakhstan ', 'Kenya ', 'Kiribati ', 'Korea, North ', 'Kyrgyzstan ', 'Laos ', 'Latvia ', 'Lebanon  ', 'Lesotho ', 'Liberia ', 'Libya ', 'Liechtenstein  ', 'Luxembourg ', 'Macedonia, former Yugoslav Republic of ', 'Madagascar ', 'Malawi ', 'Malaysia ', 'Maldives  ', 'Mali ', 'Malta ', 'Marshall Islands ', 'Mauritania ', 'Mauritius ', 'Mexico: Spanish, Indian languages ', 'Liberia: English, tribal dialects ', 'Libya: Arabic, Italian, English ', 'Liechtenstein  ', 'Micronesia ', 'Moldova ', 'Monaco  ', 'Mongolia ', 'Morocco  ', 'Mozambique ', 'Myanmar ', 'Namibia ', 'Nauru ', 'Mongolia  ', 'Morocco ', 'Nepal:  ', 'The Netherlands  ', 'New Zealand ', 'Niger ', 'Nigeria ', 'Norway ', 'Oman ', 'Pakistan ', 'Palau ', 'Palestinian territories ', 'Spanish, English ', 'Papua New Guinea:  ', 'Nepal ', 'The Netherlands  ', 'New Zealand ', 'Niger ', 'Nigeria ', 'Paraguay ', 'Peru ', 'The Philippines ', 'Poland ', 'Portugal ', 'Qatar ', 'Romania ', 'Russia ', 'Rwanda ', 'Paraguay ', 'Peru ', 'The Philippines ', 'Poland ', 'St. Kitts and Nevis ', 'St. Lucia ', 'St. Vincent/the Grenadines:  ', 'Samoa ', 'San Marino ', 'São Tomé and Príncipe: ', 'Saudi Arabia ', 'Senegal ', 'Serbia and Montenegro ', 'Seychelles  ', 'Sierra Leone ', 'Singapore ', 'Slovakia ', 'Slovenia ', 'Solomon Islands ', 'Somalia ', 'South Africa ', 'South Sudan ', 'Spain ', 'Sudan ', 'Suriname ', 'Swaziland ', 'Sweden ', 'Switzerland ', 'Syria ', 'Taiwan ', 'Tajikistan ', 'Tanzania ', 'Thailand ', 'Togo ', 'Tonga  ', 'Trinidad and Tobago ', 'Tunisia ', 'Turkey: Turkish, Kurdish ', 'Turkmenistan ', 'Tuvalu ', 'Uganda ', 'Ukraine ', 'United Arab Emirates ', 'United Kingdom ', 'United States ', 'Uruguay ', 'Uzbekistan ', 'Vanuatu ', 'Vatican City ', 'Venezuela ', 'Vietnam ', 'Western Sahara region ', 'Yemen ', 'Zambia ']\n"
     ]
    }
   ],
   "source": [
    "print(df['Country '].tolist())"
   ]
  },
  {
   "cell_type": "code",
   "execution_count": 6,
   "id": "5ab84c8e",
   "metadata": {},
   "outputs": [
    {
     "name": "stdout",
     "output_type": "stream",
     "text": [
      "0      Pashtu, Farsi, Dari, Hazaragi, other Turkic an...\n",
      "1                                        Albanian, Greek\n",
      "2                       Arabic, French, Berber dialects \n",
      "3                Catalán, French, Castilian, Portuguese \n",
      "4         Portuguese, Bantu and other African languages \n",
      "                             ...                        \n",
      "203    Spanish, various Indigenous languages in the r...\n",
      "204         Vietnamese, French, English, Khmer, Chinese \n",
      "205                   Hassaniya Arabic, Moroccan Arabic \n",
      "206                                              Arabic \n",
      "207                             English, local dialects \n",
      "Name: Language , Length: 208, dtype: object\n"
     ]
    }
   ],
   "source": [
    "print(df['Language '])"
   ]
  },
  {
   "cell_type": "code",
   "execution_count": 7,
   "id": "6955c786",
   "metadata": {},
   "outputs": [],
   "source": [
    "# print(df['Language '].tolist())\n",
    "lan_list = df['Language '].tolist()\n",
    "official_list = []\n",
    "for lan in lan_list :\n",
    "    official = lan.split(',')[0].strip(' ')\n",
    "    official_list.append(official)\n",
    "# print(official_list)\n",
    "del df['Language ']\n",
    "df['Language '] = official_list"
   ]
  },
  {
   "cell_type": "code",
   "execution_count": 8,
   "id": "d2ef3dc9",
   "metadata": {},
   "outputs": [
    {
     "name": "stdout",
     "output_type": "stream",
     "text": [
      "0                Pashtu\n",
      "1              Albanian\n",
      "2                Arabic\n",
      "3               Catalán\n",
      "4            Portuguese\n",
      "             ...       \n",
      "203             Spanish\n",
      "204          Vietnamese\n",
      "205    Hassaniya Arabic\n",
      "206              Arabic\n",
      "207             English\n",
      "Name: Language , Length: 208, dtype: object\n"
     ]
    }
   ],
   "source": [
    "print(df['Language '])"
   ]
  },
  {
   "cell_type": "code",
   "execution_count": 9,
   "id": "287c2c95",
   "metadata": {},
   "outputs": [],
   "source": [
    "from sklearn.preprocessing import LabelEncoder, OneHotEncoder"
   ]
  },
  {
   "cell_type": "code",
   "execution_count": 10,
   "id": "7e86658e",
   "metadata": {},
   "outputs": [],
   "source": [
    "label_encoder_x = LabelEncoder()"
   ]
  },
  {
   "cell_type": "code",
   "execution_count": 11,
   "id": "58c388b1",
   "metadata": {},
   "outputs": [],
   "source": [
    "x = label_encoder_x.fit_transform(df['Country '].tolist())"
   ]
  },
  {
   "cell_type": "code",
   "execution_count": 12,
   "id": "4b21daca",
   "metadata": {},
   "outputs": [
    {
     "name": "stdout",
     "output_type": "stream",
     "text": [
      "[  0   1   2   3   4   5   6   7   8   9  10  11  12  13  14  15  16  17\n",
      "  18  19  20  21  22  23  24  25  26  27  28  29  30  31  32  33  34  35\n",
      "  36  38  37  39  44  40  41  42  43  45  46  47  48  49  50  51  52  53\n",
      "  54  55  56  57  58  59  60  61  62  63  64  65  66  67  68  69  70  71\n",
      "  72  73  74  75  76  78  80  81  82  76  79  80  81  82  77  83  84  85\n",
      "  86  87  88  89  90  91  92  93  94  95  97  99 100 101 102 103 104 105\n",
      " 106 107 108 109 110 111  96  98  99 112 113 114 115 118 119 120 121 122\n",
      " 116 117 124 172 125 126 127 128 129 130 131 132 157 133 123 172 125 126\n",
      " 127 134 135 173 136 137 138 139 140 141 134 135 173 136 158 159 160 142\n",
      " 143 167 144 145 146 147 148 149 150 151 152 153 154 155 156 161 162 163\n",
      " 164 165 166 168 169 170 171 174 175 176 177 178 179 180 181 182 183 184\n",
      " 185 186 187 188 189 190 191 192 193 194]\n"
     ]
    }
   ],
   "source": [
    "print(x)"
   ]
  },
  {
   "cell_type": "code",
   "execution_count": 13,
   "id": "a3ab8c41",
   "metadata": {},
   "outputs": [],
   "source": [
    "onehot_encoder = OneHotEncoder()\n",
    "y = onehot_encoder.fit_transform(df[['Language ']])"
   ]
  },
  {
   "cell_type": "code",
   "execution_count": 25,
   "id": "f52c47f4",
   "metadata": {},
   "outputs": [
    {
     "name": "stdout",
     "output_type": "stream",
     "text": [
      "[[0. 0. 0. 0. 0. 0. 0. 0. 0. 0. 0. 0. 0. 0. 0. 0. 0. 0. 0. 0. 0. 0. 0. 0.\n",
      "  0. 0. 0. 0. 0. 0. 0. 0. 0. 0. 0. 0. 0. 0. 0. 0. 0. 0. 0. 0. 0. 0. 0. 0.\n",
      "  0. 0. 0. 0. 0. 0. 0. 0. 0. 0. 0. 0. 0. 1. 0. 0. 0. 0. 0. 0. 0. 0. 0. 0.\n",
      "  0. 0. 0. 0. 0. 0. 0. 0. 0. 0. 0. 0. 0. 0. 0.]\n",
      " [0. 0. 1. 0. 0. 0. 0. 0. 0. 0. 0. 0. 0. 0. 0. 0. 0. 0. 0. 0. 0. 0. 0. 0.\n",
      "  0. 0. 0. 0. 0. 0. 0. 0. 0. 0. 0. 0. 0. 0. 0. 0. 0. 0. 0. 0. 0. 0. 0. 0.\n",
      "  0. 0. 0. 0. 0. 0. 0. 0. 0. 0. 0. 0. 0. 0. 0. 0. 0. 0. 0. 0. 0. 0. 0. 0.\n",
      "  0. 0. 0. 0. 0. 0. 0. 0. 0. 0. 0. 0. 0. 0. 0.]\n",
      " [0. 0. 0. 0. 1. 0. 0. 0. 0. 0. 0. 0. 0. 0. 0. 0. 0. 0. 0. 0. 0. 0. 0. 0.\n",
      "  0. 0. 0. 0. 0. 0. 0. 0. 0. 0. 0. 0. 0. 0. 0. 0. 0. 0. 0. 0. 0. 0. 0. 0.\n",
      "  0. 0. 0. 0. 0. 0. 0. 0. 0. 0. 0. 0. 0. 0. 0. 0. 0. 0. 0. 0. 0. 0. 0. 0.\n",
      "  0. 0. 0. 0. 0. 0. 0. 0. 0. 0. 0. 0. 0. 0. 0.]\n",
      " [0. 0. 0. 0. 0. 0. 0. 0. 0. 0. 0. 0. 0. 0. 0. 0. 1. 0. 0. 0. 0. 0. 0. 0.\n",
      "  0. 0. 0. 0. 0. 0. 0. 0. 0. 0. 0. 0. 0. 0. 0. 0. 0. 0. 0. 0. 0. 0. 0. 0.\n",
      "  0. 0. 0. 0. 0. 0. 0. 0. 0. 0. 0. 0. 0. 0. 0. 0. 0. 0. 0. 0. 0. 0. 0. 0.\n",
      "  0. 0. 0. 0. 0. 0. 0. 0. 0. 0. 0. 0. 0. 0. 0.]\n",
      " [0. 0. 0. 0. 0. 0. 0. 0. 0. 0. 0. 0. 0. 0. 0. 0. 0. 0. 0. 0. 0. 0. 0. 0.\n",
      "  0. 0. 0. 0. 0. 0. 0. 0. 0. 0. 0. 0. 0. 0. 0. 0. 0. 0. 0. 0. 0. 0. 0. 0.\n",
      "  0. 0. 0. 0. 0. 0. 0. 0. 0. 0. 0. 0. 0. 0. 0. 1. 0. 0. 0. 0. 0. 0. 0. 0.\n",
      "  0. 0. 0. 0. 0. 0. 0. 0. 0. 0. 0. 0. 0. 0. 0.]]\n"
     ]
    }
   ],
   "source": [
    "print(y.toarray()[:5])"
   ]
  },
  {
   "cell_type": "code",
   "execution_count": 15,
   "id": "4340973d",
   "metadata": {},
   "outputs": [
    {
     "name": "stdout",
     "output_type": "stream",
     "text": [
      "[array(['Afar', 'Afrikaans', 'Albanian', 'Amharic', 'Arabic', 'Armenian',\n",
      "       'Azerbaijani Turkic', 'Bahasa Indonesia', 'Bangla', 'Belorussian',\n",
      "       'Bislama (a Melanesian pidgin English)', 'Bokmål', 'Bosnian',\n",
      "       'Bulgarian', 'Cantonese', 'Castilian Spanish', 'Catalán',\n",
      "       'Chinese (Mandarin)', 'Creole', 'Czech', 'Danish', 'Dhivehi',\n",
      "       'Dutch', 'Dzongkha', 'English', 'Estonian', 'Farsi (Persian)',\n",
      "       'Filipino (based on Tagalog)', 'Finnish', 'French', 'Georgian',\n",
      "       'German', 'Greek', 'Hassaniya Arabic', 'Hebrew', 'Hindi',\n",
      "       'Honduras', 'Icelandic', 'Italian', 'Japanese', 'Kazak (Qazaq)',\n",
      "       'Khmer', 'Kinyarwanda', 'Kirundi', 'Korean', 'Kyrgyz', 'Lao',\n",
      "       'Latin', 'Latvian', 'Luxermbourgish',\n",
      "       'Macedonian (uses the Cyrillic alphabet)', 'Magyar', 'Malagasy',\n",
      "       'Malay', 'Maltese', 'Marshallese',\n",
      "       'Moldovan (similar to Romanian)', 'Mongolian', 'Nauruan', 'Nepali',\n",
      "       'Palau', 'Pashtu', 'Polish', 'Portuguese', 'Punjabi', 'Romanian',\n",
      "       'Russian', 'Samoan', 'Serbian', 'Slovak',\n",
      "       'Slovenian; Serbo-Croatian', 'Somali', 'Spanish', 'Swahili',\n",
      "       'Swedish', 'Tajik', 'Tetum', 'Thai (Siamese)',\n",
      "       'The Myanmar language (formerly Burmese)',\n",
      "       'Tongan (an Austronesian language)', 'Turkish', 'Turkmen',\n",
      "       'Tuvaluan', 'Ukrainian', 'Uzbek', 'Vietnamese', 'Xhosa'],\n",
      "      dtype=object)]\n"
     ]
    }
   ],
   "source": [
    "print(onehot_encoder.categories_)"
   ]
  },
  {
   "cell_type": "code",
   "execution_count": 18,
   "id": "1e5f37dc",
   "metadata": {},
   "outputs": [],
   "source": [
    "temp = ['Afar', 'Afrikaans', 'Albanian', 'Amharic', 'Arabic', 'Armenian',\n",
    "       'Azerbaijani Turkic', 'Bahasa Indonesia', 'Bangla', 'Belorussian',\n",
    "       'Bislama (a Melanesian pidgin English)', 'Bokmål', 'Bosnian',\n",
    "       'Bulgarian', 'Cantonese', 'Castilian Spanish', 'Catalán',\n",
    "       'Chinese (Mandarin)', 'Creole', 'Czech', 'Danish', 'Dhivehi',\n",
    "       'Dutch', 'Dzongkha', 'English', 'Estonian', 'Farsi (Persian)',\n",
    "       'Filipino (based on Tagalog)', 'Finnish', 'French', 'Georgian',\n",
    "       'German', 'Greek', 'Hassaniya Arabic', 'Hebrew', 'Hindi',\n",
    "       'Honduras', 'Icelandic', 'Italian', 'Japanese', 'Kazak (Qazaq)',\n",
    "       'Khmer', 'Kinyarwanda', 'Kirundi', 'Korean', 'Kyrgyz', 'Lao',\n",
    "       'Latin', 'Latvian', 'Luxermbourgish',\n",
    "       'Macedonian (uses the Cyrillic alphabet)', 'Magyar', 'Malagasy',\n",
    "       'Malay', 'Maltese', 'Marshallese',\n",
    "       'Moldovan (similar to Romanian)', 'Mongolian', 'Nauruan', 'Nepali',\n",
    "       'Palau', 'Pashtu', 'Polish', 'Portuguese', 'Punjabi', 'Romanian',\n",
    "       'Russian', 'Samoan', 'Serbian', 'Slovak',\n",
    "       'Slovenian; Serbo-Croatian', 'Somali', 'Spanish', 'Swahili',\n",
    "       'Swedish', 'Tajik', 'Tetum', 'Thai (Siamese)',\n",
    "       'The Myanmar language (formerly Burmese)',\n",
    "       'Tongan (an Austronesian language)', 'Turkish', 'Turkmen',\n",
    "       'Tuvaluan', 'Ukrainian', 'Uzbek', 'Vietnamese', 'Xhosa']"
   ]
  },
  {
   "cell_type": "code",
   "execution_count": 22,
   "id": "a3db0c2a",
   "metadata": {},
   "outputs": [
    {
     "name": "stdout",
     "output_type": "stream",
     "text": [
      "87\n"
     ]
    }
   ],
   "source": [
    "print(len(temp))"
   ]
  },
  {
   "cell_type": "code",
   "execution_count": null,
   "id": "066360c6",
   "metadata": {},
   "outputs": [],
   "source": []
  }
 ],
 "metadata": {
  "kernelspec": {
   "display_name": "Python 3 (ipykernel)",
   "language": "python",
   "name": "python3"
  },
  "language_info": {
   "codemirror_mode": {
    "name": "ipython",
    "version": 3
   },
   "file_extension": ".py",
   "mimetype": "text/x-python",
   "name": "python",
   "nbconvert_exporter": "python",
   "pygments_lexer": "ipython3",
   "version": "3.9.12"
  }
 },
 "nbformat": 4,
 "nbformat_minor": 5
}
