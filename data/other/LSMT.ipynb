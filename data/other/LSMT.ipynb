{
 "cells": [
  {
   "cell_type": "code",
   "execution_count": 1,
   "id": "b13f922f",
   "metadata": {},
   "outputs": [
    {
     "name": "stderr",
     "output_type": "stream",
     "text": [
      "2022-12-22 17:28:29.831437: I tensorflow/core/platform/cpu_feature_guard.cc:193] This TensorFlow binary is optimized with oneAPI Deep Neural Network Library (oneDNN) to use the following CPU instructions in performance-critical operations:  SSE4.1 SSE4.2\n",
      "To enable them in other operations, rebuild TensorFlow with the appropriate compiler flags.\n"
     ]
    }
   ],
   "source": [
    "import numpy as np # linear algebra\n",
    "import pandas as pd # data processing, CSV file I/O (e.g. pd.read_csv)\n",
    "import matplotlib.pyplot as plt\n",
    "\n",
    "from tensorflow.keras.preprocessing import sequence\n",
    "from tensorflow.keras.models import Sequential\n",
    "from tensorflow.keras.layers import Dense, Embedding, Dropout, LSTM, Bidirectional\n",
    "from tensorflow.keras.callbacks import EarlyStopping, ModelCheckpoint, ReduceLROnPlateau\n",
    "from tensorflow.keras.regularizers import l2\n",
    "\n",
    "from sklearn.preprocessing import OneHotEncoder\n",
    "from sklearn.model_selection import train_test_split"
   ]
  },
  {
   "cell_type": "code",
   "execution_count": 2,
   "id": "78f1da43",
   "metadata": {},
   "outputs": [
    {
     "data": {
      "text/html": [
       "<div>\n",
       "<style scoped>\n",
       "    .dataframe tbody tr th:only-of-type {\n",
       "        vertical-align: middle;\n",
       "    }\n",
       "\n",
       "    .dataframe tbody tr th {\n",
       "        vertical-align: top;\n",
       "    }\n",
       "\n",
       "    .dataframe thead th {\n",
       "        text-align: right;\n",
       "    }\n",
       "</style>\n",
       "<table border=\"1\" class=\"dataframe\">\n",
       "  <thead>\n",
       "    <tr style=\"text-align: right;\">\n",
       "      <th></th>\n",
       "      <th>name</th>\n",
       "      <th>gender</th>\n",
       "    </tr>\n",
       "  </thead>\n",
       "  <tbody>\n",
       "    <tr>\n",
       "      <th>0</th>\n",
       "      <td>a hannan</td>\n",
       "      <td>M</td>\n",
       "    </tr>\n",
       "    <tr>\n",
       "      <th>1</th>\n",
       "      <td>a jay</td>\n",
       "      <td>M</td>\n",
       "    </tr>\n",
       "    <tr>\n",
       "      <th>2</th>\n",
       "      <td>a k i l</td>\n",
       "      <td>M</td>\n",
       "    </tr>\n",
       "    <tr>\n",
       "      <th>3</th>\n",
       "      <td>a lah</td>\n",
       "      <td>F</td>\n",
       "    </tr>\n",
       "    <tr>\n",
       "      <th>7</th>\n",
       "      <td>a rin</td>\n",
       "      <td>F</td>\n",
       "    </tr>\n",
       "  </tbody>\n",
       "</table>\n",
       "</div>"
      ],
      "text/plain": [
       "       name gender\n",
       "0  a hannan      M\n",
       "1     a jay      M\n",
       "2   a k i l      M\n",
       "3     a lah      F\n",
       "7     a rin      F"
      ]
     },
     "execution_count": 2,
     "metadata": {},
     "output_type": "execute_result"
    }
   ],
   "source": [
    "df = pd.read_csv('wgnd_noctry.csv',low_memory=False)\n",
    "\n",
    "df = df[df.gender.isin(['M', 'F'])]\n",
    "\n",
    "df['name'] = df['name'].apply(lambda x: str(x).lower())\n",
    "df = df[[len(e)>1 for e in df.name]]\n",
    "df = df.drop_duplicates()\n",
    "\n",
    "names = df['name'].apply(lambda x: x.lower())\n",
    "gender = df['gender']\n",
    "\n",
    "df.head()"
   ]
  },
  {
   "cell_type": "code",
   "execution_count": 3,
   "id": "40294e54",
   "metadata": {},
   "outputs": [
    {
     "data": {
      "image/png": "[encoded data removed]",
      "text/plain": [
       "<Figure size 432x288 with 1 Axes>"
      ]
     },
     "metadata": {
      "needs_background": "light"
     },
     "output_type": "display_data"
    }
   ],
   "source": [
    "plt.hist([len(a) for a in names], bins=30)\n",
    "plt.title('Length of the names')\n",
    "plt.show()"
   ]
  },
  {
   "cell_type": "code",
   "execution_count": 4,
   "id": "558d8a03",
   "metadata": {},
   "outputs": [
    {
     "name": "stdout",
     "output_type": "stream",
     "text": [
      "Male : 67275\n",
      "Female : 98809\n"
     ]
    }
   ],
   "source": [
    "print('Male : ' + str(sum(gender=='M')))\n",
    "print('Female : ' + str(sum(gender=='F')))"
   ]
  },
  {
   "cell_type": "code",
   "execution_count": 5,
   "id": "b482d9ec",
   "metadata": {},
   "outputs": [],
   "source": [
    "vocab = set(' '.join([str(i) for i in names]))\n",
    "vocab.add('END')\n",
    "len_vocab = len(vocab)"
   ]
  },
  {
   "cell_type": "code",
   "execution_count": 6,
   "id": "9eeab903",
   "metadata": {},
   "outputs": [
    {
     "name": "stdout",
     "output_type": "stream",
     "text": [
      "{'동': 0, '晧': 1, '옥': 2, '聖': 3, '盛': 4, '夏': 5, 'e': 6, '皓': 7, '彩': 8, '우': 9, '利': 10, '顯': 11, '후': 12, '慶': 13, '慧': 14, '오': 15, '鎭': 16, '桂': 17, '하': 18, '姢': 19, '龙': 20, '花': 21, 'END': 22, '家': 23, '霞': 24, '好': 25, 'd': 26, 'w': 27, 'h': 28, 'q': 29, '阳': 30, '자': 31, '琴': 32, '헌': 33, '朝': 34, '昊': 35, '치': 36, '志': 37, '이': 38, '珍': 39, '枝': 40, '구': 41, '보': 42, '廷': 43, '라': 44, '성': 45, '조': 46, '根': 47, '京': 48, '勳': 49, '允': 50, '훈': 51, '艳': 52, 'o': 53, '貞': 54, '胜': 55, '철': 56, '춘': 57, 'l': 58, '娟': 59, '梅': 60, '壽': 61, '荣': 62, 'a': 63, '宗': 64, '中': 65, '소': 66, '正': 67, '인': 68, '림': 69, '强': 70, '나': 71, '장': 72, 'c': 73, '연': 74, '原': 75, '明': 76, '람': 77, '애': 78, '景': 79, '子': 80, '병': 81, '地': 82, '芝': 83, '름': 84, '차': 85, '勛': 86, '道': 87, '열': 88, 'p': 89, '俊': 90, 'f': 91, '承': 92, '美': 93, '경': 94, '采': 95, '도': 96, 'x': 97, '震': 98, 'v': 99, '정': 100, 'y': 101, 'z': 102, '惠': 103, '凤': 104, '准': 105, '고': 106, '규': 107, '선': 108, '유': 109, '일': 110, '별': 111, 'm': 112, '敏': 113, ',': 114, '潤': 115, '상': 116, '日': 117, '文': 118, '한': 119, '식': 120, '华': 121, '昰': 122, '知': 123, '煥': 124, '재': 125, '榮': 126, '涛': 127, '택': 128, '시': 129, '卫': 130, '리': 131, '祐': 132, '鎬': 133, '해': 134, '飞': 135, 't': 136, '秀': 137, '春': 138, '완': 139, '기': 140, '兰': 141, '채': 142, 'n': 143, '丽': 144, '星': 145, '晓': 146, '웅': 147, '슬': 148, '佑': 149, '예': 150, '길': 151, '지': 152, '종': 153, '哲': 154, '徐': 155, '慇': 156, '裕': 157, '红': 158, '민': 159, '비': 160, '주': 161, '恩': 162, '명': 163, '舒': 164, '生': 165, ' ': 166, '云': 167, '혁': 168, '다': 169, '淑': 170, '은': 171, '向': 172, '浩': 173, '鹏': 174, '永': 175, '崇': 176, '起': 177, '아': 178, '가': 179, '辉': 180, '윤': 181, '요': 182, 'u': 183, '婷': 184, '東': 185, '賢': 186, '광': 187, '杰': 188, '혼': 189, '란': 190, '成': 191, '빛': 192, '峰': 193, '玲': 194, '서': 195, '무': 196, '진': 197, '大': 198, '玉': 199, '銀': 200, '敬': 201, '미': 202, '희': 203, '映': 204, '중': 205, '빈': 206, '新': 207, 'b': 208, 'k': 209, '藝': 210, '원': 211, '军': 212, '혜': 213, '东': 214, '숙': 215, '光': 216, '刚': 217, '安': 218, '娜': 219, '澈': 220, '순': 221, '준': 222, 'i': 223, 'g': 224, '振': 225, '승': 226, '섭': 227, '眞': 228, '雨': 229, '序': 230, '民': 231, '수': 232, '姬': 233, '瑞': 234, '환': 235, '海': 236, '嬉': 237, '昀': 238, '始': 239, '豪': 240, '炳': 241, '호': 242, '爱': 243, '덕': 244, '현': 245, '여': 246, '宇': 247, '国': 248, '尚': 249, '伟': 250, '洙': 251, 's': 252, 'j': 253, '泳': 254, '垊': 255, '영': 256, '건': 257, '英': 258, '화': 259, 'r': 260, '智': 261, '建': 262, '남': 263, '모': 264}\n"
     ]
    }
   ],
   "source": [
    "char_index = dict((c, i) for i, c in enumerate(vocab))\n",
    "print(char_index)"
   ]
  },
  {
   "cell_type": "code",
   "execution_count": 7,
   "id": "ab3fa043",
   "metadata": {},
   "outputs": [],
   "source": [
    "maxlen = 20\n",
    "labels = 2\n",
    "\n",
    "X = []\n",
    "y = []\n",
    "\n",
    "# Builds an empty line with a 1 at the index of character\n",
    "def set_flag(i):\n",
    "    tmp = np.zeros(len_vocab);\n",
    "    tmp[i] = 1\n",
    "    return list(tmp)\n",
    "\n",
    "# Truncate names and create the matrix\n",
    "def prepare_X(X):\n",
    "    new_list = []\n",
    "    trunc_train_name = [str(i)[0:maxlen] for i in X]\n",
    "    for i in trunc_train_name:\n",
    "        tmp = [set_flag(char_index[j]) for j in str(i)]\n",
    "        for k in range(0,maxlen - len(str(i))):\n",
    "            tmp.append(set_flag(char_index['END']))\n",
    "        new_list.append(tmp)\n",
    "    return new_list\n",
    "\n",
    "X = prepare_X(names.values)\n",
    "\n",
    "# Label Encoding of y\n",
    "def prepare_y(y):\n",
    "    new_list = []\n",
    "    for i in y:\n",
    "        if i == 'M':\n",
    "            new_list.append([1,0])\n",
    "        else:\n",
    "            new_list.append([0,1])\n",
    "    return new_list\n",
    "\n",
    "y = prepare_y(gender)"
   ]
  },
  {
   "cell_type": "code",
   "execution_count": 8,
   "id": "4b7ea3ea",
   "metadata": {},
   "outputs": [],
   "source": [
    "X_train, X_test, y_train, y_test = train_test_split(X, y, test_size=0.1, random_state=42)"
   ]
  },
  {
   "cell_type": "code",
   "execution_count": null,
   "id": "03cb7e8b",
   "metadata": {},
   "outputs": [],
   "source": [
    "\n",
    "model = Sequential()\n",
    "model.add(Bidirectional(LSTM(128, return_sequences=True), backward_layer=LSTM(128, return_sequences=True, go_backwards=True), input_shape=(maxlen,len_vocab)))\n",
    "model.add(Dropout(0.2))\n",
    "\n",
    "model.add(Bidirectional(LSTM(32)))\n",
    "model.add(Dropout(0.2))\n",
    "model.add(Dense(2, activation='softmax', activity_regularizer=l2(0.001)))\n",
    "\n",
    "model.summary()"
   ]
  },
  {
   "cell_type": "code",
   "execution_count": null,
   "id": "abaa0943",
   "metadata": {},
   "outputs": [],
   "source": [
    "model.compile(loss='categorical_crossentropy', optimizer='adam', metrics=['accuracy'])"
   ]
  },
  {
   "cell_type": "code",
   "execution_count": null,
   "id": "a7d05167",
   "metadata": {},
   "outputs": [],
   "source": [
    "callback = EarlyStopping(monitor='val_loss', patience=5)\n",
    "reduce_lr = ReduceLROnPlateau(monitor='val_accuracy', factor=0.1, patience=2, verbose=1, min_delta=1e-4, mode='max')"
   ]
  },
  {
   "cell_type": "code",
   "execution_count": null,
   "id": "dcd33450",
   "metadata": {},
   "outputs": [],
   "source": [
    "epochs = 30\n",
    "batch_size = 64\n",
    "history = model.fit(X_train, y_train, batch_size=batch_size, epochs=epochs, verbose=1, validation_data=(X_test, y_test), callbacks=[callback, reduce_lr])"
   ]
  },
  {
   "cell_type": "code",
   "execution_count": null,
   "id": "0898627f",
   "metadata": {},
   "outputs": [],
   "source": []
  }
 ],
 "metadata": {
  "kernelspec": {
   "display_name": "Python 3 (ipykernel)",
   "language": "python",
   "name": "python3"
  },
  "language_info": {
   "codemirror_mode": {
    "name": "ipython",
    "version": 3
   },
   "file_extension": ".py",
   "mimetype": "text/x-python",
   "name": "python",
   "nbconvert_exporter": "python",
   "pygments_lexer": "ipython3",
   "version": "3.10.8"
  }
 },
 "nbformat": 4,
 "nbformat_minor": 5
}
